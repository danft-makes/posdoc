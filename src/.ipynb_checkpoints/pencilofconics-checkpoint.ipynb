{
 "cells": [
  {
   "cell_type": "code",
   "execution_count": 1,
   "metadata": {
    "collapsed": false
   },
   "outputs": [
   ],
   "source": [
    "k = QQ\n",
    "R.<x,y,z> = PolynomialRing(k,3)\n",
    "M = R.derivation_module()\n",
    "e = x*M.gen(0) + y*M.gen(1) + z*M.gen(2)\n",
    "P2 = ProjectiveSpace(R)\n",
    "\n",
    "def gcd_of_three(a, b, c):\n",
    "    \"\"\"Calculate the GCD of three numbers.\"\"\"\n",
    "    return gcd(gcd(a, b), c)\n",
    "\n",
    "def NewDer(dtuple):\n",
    "    d = dtuple[0]*M.gen(0) + dtuple[1]*M.gen(1) + dtuple[2]*M.gen(2)\n",
    "    return d\n",
    "\n",
    "def ToDer0(f,d):\n",
    "    # M is the derivation module of f and d is in M\n",
    "    if d(f) in Ideal(f):\n",
    "        k = d(f)/f\n",
    "        k = R(k) # coerce from fraction field to polynomial ring, else k*e doesnt work\n",
    "        newd = d - (k*e)/(f.degree())\n",
    "        return newd\n",
    "    else:\n",
    "        print(\"d is not a derivation of f\")\n",
    "        return 0\n",
    "\n",
    "def UnionDer(d,f,g):\n",
    "    # d is a derivation in Der_0(f)\n",
    "    gd = g*d - (d(g)*e)/(g.degree()+f.degree())\n",
    "    return gd\n",
    "\n",
    "def ZeroesDer(d,g):\n",
    "    coef = d.list()\n",
    "    dx = coef[0] ; dy = coef[1] ; dz = coef[2]\n",
    "    kbar=QQbar\n",
    "    Rbar.<x,y,z>=PolynomialRing(kbar,3)\n",
    "    P2bar = ProjectiveSpace(Rbar)\n",
    "    Igdbar = Ideal(Rbar(dx),Rbar(dy),Rbar(dz))\n",
    "    Xgdbar = P2bar.subscheme(Igdbar)\n",
    "    Z = Xgdbar.rational_points()\n",
    "    gbar = Rbar(g)\n",
    "    #print(f\"The total zeroscheme has length {len(Z)} and is: {Z}. Intersecting with {gbar}...\")\n",
    "    ZcapL = [pt for pt in Z if gbar(list(pt))==0] # I think we dont need to verify this, because Z == ZcapL always #TODO\n",
    "    print(f\"The zeroscheme has length {len(ZcapL)} and is: {ZcapL}.\\n\")\n",
    "    return ZcapL\n",
    "def ComputeZcapJ(Z,f):\n",
    "    kbar = QQbar\n",
    "    Rbar.<x,y,z> = PolynomialRing(kbar,3)\n",
    "    fbar = Rbar(f)\n",
    "    P2bar = ProjectiveSpace(Rbar)\n",
    "    Z = [P2bar(pt) for pt in Z] # it seems we need to enforce Z in P2bar again...\n",
    "    IJbar = JacobianIdeal(fbar)\n",
    "    XJbar = P2bar.subscheme(IJbar)\n",
    "    XJbar_pts = XJbar.rational_points()\n",
    "    print(f\"Checking if {Z} intersects {XJbar_pts}\")\n",
    "    ZcapJ = [pt for pt in Z if pt in XJbar_pts]\n",
    "    return ZcapJ\n",
    "\n",
    "\n",
    "# Canonical derivation of f and g:\n",
    "def GetPartials(f):\n",
    "    partials = f.jacobian_ideal().gens()\n",
    "    return partials\n",
    "def GenCanonicalDerivationOfPencil(f,g):\n",
    "    fx, fy, fz = GetPartials(f)\n",
    "    gx, gy, gz = GetPartials(g)\n",
    "    d = [fy*gz-gy*fz,fz*gx-fx*gz,fx*gy-fy*gx]\n",
    "    d = NewDer(d)\n",
    "    return d\n",
    "def JacobianIdeal(f):\n",
    "    partials = GetPartials(f)\n",
    "    J = Ideal(partials)\n",
    "    return J\n",
    "def JacobianSyzygy(f):\n",
    "    J = JacobianIdeal(f)\n",
    "    Syz = J.syzygy_module()\n",
    "    return Syz\n",
    "def MinimumDegreeColumn(Syz):\n",
    "    gens = Syz.rows()\n",
    "    mindegree = min([max(generator[0].degree(),generator[1].degree(),generator[2].degree()) for generator in gens])\n",
    "    mindeg_generators = [generator for generator in gens if max(generator[0].degree(),generator[1].degree(),generator[2].degree())==mindegree]\n",
    "    return {\"mindegree_generators\":mindeg_generators, \"degree\":mindegree, \"len\":len(mindeg_generators)}\n",
    "def MinimumDegreeSyzygy(f):\n",
    "    Syz = JacobianSyzygy(f)\n",
    "    mindeg = MinimumDegreeColumn(Syz)\n",
    "    return mindeg\n",
    "    \n",
    "#f = x*z ; X = P2.subscheme(f)\n",
    "#g = z^2-x*y ; Y = P2.subscheme(g)\n",
    "#h = g*(f+g)*(f-g) ; C = Curve(h) ; hx = derivative(h,x) ; hy = derivative(h,y) ; hz = derivative(h,z)\n",
    "#J = Ideal(hx,hy,hz) ; CJ = P2.subscheme(J)\n",
    "#for point in CJ.rational_points():\n",
    "#    mp = CJ.multiplicity(point)\n",
    "#    print(f\"Point {point} has multiplicity {mp} with tangents {C.tangents(point)}\")\n",
    "\n",
    "#d = GenCanonicalDerivationOfPencil(f,g)\n",
    "#a,b,c = [2,1,3] ; l=a*x+b*y+c*z\n",
    "#ld = UnionDer(d,h,l)\n",
    "#Xld = ZeroesDer(ld,l)"
   ]
  },
  {
   "cell_type": "code",
   "execution_count": 4,
   "metadata": {
    "collapsed": false,
    "scrolled": true
   },
   "outputs": [
    {
     "name": "stdout",
     "output_type": "stream",
     "text": [
      "The zeroscheme has length 2 and is: [(-1.183215956619924? : -0.4405600309857692? : 1), (1.183215956619924? : -2.130868540442803? : 1)].\n",
      "\n"
     ]
    },
    {
     "name": "stdout",
     "output_type": "stream",
     "text": [
      "Checking if [(-1.183215956619924? : -0.4405600309857692? : 1), (1.183215956619924? : -2.130868540442803? : 1)] intersects [(0 : 1 : 0), (1 : 0 : 0)]\n"
     ]
    },
    {
     "name": "stdout",
     "output_type": "stream",
     "text": [
      "Checking if [(-1.183215956619924? : -0.4405600309857692? : 1), (1.183215956619924? : -2.130868540442803? : 1)] intersects [(-2.677032961426901? : 0.6264521153049291? : 1), (-7/5 : 1 : 0), (-0.5229670385730992? : -0.9121664010192148? : 1), (-0.2000000000000000? - 1.166190378969060?*I : -1.142857142857143? + 0.8329931278350429?*I : 1), (-0.2000000000000000? + 1.166190378969060?*I : -1.142857142857143? - 0.8329931278350429?*I : 1), (0 : -9/7 : 1), (0 : 1 : 0), (1 : 0 : 0)]\n"
     ]
    },
    {
     "name": "stdout",
     "output_type": "stream",
     "text": [
      "The zeroscheme has length 2 and is: [(-1.160959123723365? : -0.4612238759471814? : 1), (1.160959123723365? : -2.183937414375400? : 1)].\n",
      "\n"
     ]
    },
    {
     "name": "stdout",
     "output_type": "stream",
     "text": [
      "Checking if [(-1.160959123723365? : -0.4612238759471814? : 1), (1.160959123723365? : -2.183937414375400? : 1)] intersects [(0 : 1 : 0), (1 : 0 : 0)]\n"
     ]
    },
    {
     "name": "stdout",
     "output_type": "stream",
     "text": [
      "Checking if [(-1.160959123723365? : -0.4612238759471814? : 1), (1.160959123723365? : -2.183937414375400? : 1)] intersects [(-2.615017084143447? : 0.6175933204935249? : 1), (-31/23 : 1 : 0), (-0.5154176984652490? : -0.9401739656548152? : 1), (-0.2173913043478261? - 1.140424091182957?*I : -1.161290322580646? + 0.8461210999099356?*I : 1), (-0.2173913043478261? + 1.140424091182957?*I : -1.161290322580646? - 0.8461210999099356?*I : 1), (0 : -41/31 : 1), (0 : 1 : 0), (1 : 0 : 0)]\n"
     ]
    },
    {
     "name": "stdout",
     "output_type": "stream",
     "text": [
      "The zeroscheme has length 2 and is: [(-1.183215956619924? : -0.4405600309857692? : 1), (1.183215956619924? : -2.130868540442803? : 1)].\n",
      "\n"
     ]
    },
    {
     "name": "stdout",
     "output_type": "stream",
     "text": [
      "Checking if [(-1.183215956619924? : -0.4405600309857692? : 1), (1.183215956619924? : -2.130868540442803? : 1)] intersects [(0 : 1 : 0), (1 : 0 : 0)]\n"
     ]
    },
    {
     "name": "stdout",
     "output_type": "stream",
     "text": [
      "Checking if [(-1.183215956619924? : -0.4405600309857692? : 1), (1.183215956619924? : -2.130868540442803? : 1)] intersects [(-2.677032961426901? : 0.6264521153049291? : 1), (-0.9000000000000000? - 0.7681145747868608?*I : -0.642857142857143? + 0.5486532677049006?*I : 1), (-0.9000000000000000? + 0.7681145747868608?*I : -0.642857142857143? - 0.5486532677049006?*I : 1), (-0.5229670385730992? : -0.9121664010192148? : 1), (-0.2000000000000000? - 1.166190378969060?*I : -1.142857142857143? + 0.8329931278350429?*I : 1), (-0.2000000000000000? + 1.166190378969060?*I : -1.142857142857143? - 0.8329931278350429?*I : 1), (0 : 1 : 0), (1 : 0 : 0)]\n"
     ]
    },
    {
     "name": "stdout",
     "output_type": "stream",
     "text": [
      "The zeroscheme has length 2 and is: [(-1.160959123723365? : -0.4612238759471814? : 1), (1.160959123723365? : -2.183937414375400? : 1)].\n",
      "\n"
     ]
    },
    {
     "name": "stdout",
     "output_type": "stream",
     "text": [
      "Checking if [(-1.160959123723365? : -0.4612238759471814? : 1), (1.160959123723365? : -2.183937414375400? : 1)] intersects [(0 : 1 : 0), (1 : 0 : 0)]\n"
     ]
    },
    {
     "name": "stdout",
     "output_type": "stream",
     "text": [
      "Checking if [(-1.160959123723365? : -0.4612238759471814? : 1), (1.160959123723365? : -2.183937414375400? : 1)] intersects [(-2.615017084143447? : 0.6175933204935249? : 1), (-0.8913043478260870? - 0.7439103753160293?*I : -0.6612903225806452? + 0.5519335042667314?*I : 1), (-0.8913043478260870? + 0.7439103753160293?*I : -0.6612903225806452? - 0.5519335042667314?*I : 1), (-0.5154176984652490? : -0.9401739656548152? : 1), (-0.2173913043478261? - 1.140424091182957?*I : -1.161290322580646? + 0.8461210999099356?*I : 1), (-0.2173913043478261? + 1.140424091182957?*I : -1.161290322580646? - 0.8461210999099356?*I : 1), (0 : 1 : 0), (1 : 0 : 0)]\n"
     ]
    },
    {
     "name": "stdout",
     "output_type": "stream",
     "text": [
      "The zeroscheme has length 3 and is: [(-1.189737426914880? : -0.4359018379179433? : 1), (-0.2841639462992600? : -1.082740038357672? : 1), (7.098901373214140? : -6.356358123724385? : 1)].\n",
      "\n"
     ]
    },
    {
     "name": "stdout",
     "output_type": "stream",
     "text": [
      "Checking if [(-1.189737426914880? : -0.4359018379179433? : 1), (-0.2841639462992600? : -1.082740038357672? : 1), (7.098901373214140? : -6.356358123724385? : 1)] intersects [(-1 : -1 : 1), (-1 : 0 : 1), (-1 : 1 : 0), (-1 : 1 : 1), (0 : -1 : 1), (0 : 0 : 1), (0 : 1 : 0), (0 : 1 : 1), (1 : -1 : 1), (1 : 0 : 0), (1 : 0 : 1), (1 : 1 : 0), (1 : 1 : 1)]\n"
     ]
    },
    {
     "name": "stdout",
     "output_type": "stream",
     "text": [
      "Checking if [(-1.189737426914880? : -0.4359018379179433? : 1), (-0.2841639462992600? : -1.082740038357672? : 1), (7.098901373214140? : -6.356358123724385? : 1)] intersects [(-16/5 : 1 : 1), (-9/5 : 0 : 1), (-7/5 : 1 : 0), (-1 : -1 : 1), (-1 : -4/7 : 1), (-1 : 0 : 1), (-1 : 1 : 0), (-1 : 1 : 1), (-3/4 : -3/4 : 1), (-2/5 : -1 : 1), (0 : -9/7 : 1), (0 : -1 : 1), (0 : 0 : 1), (0 : 1 : 0), (0 : 1 : 1), (1 : -2 : 1), (1 : -1 : 1), (1 : 0 : 0), (1 : 0 : 1), (1 : 1 : 0), (1 : 1 : 1), (9/2 : -9/2 : 1)]\n"
     ]
    },
    {
     "name": "stdout",
     "output_type": "stream",
     "text": [
      "The zeroscheme has length 3 and is: [(-1.185308173215641? : -0.4431584521303312? : 1), (-0.311546101105247? : -1.091433537889657? : 1), (8.04546538543200? : -7.291796898868901? : 1)].\n",
      "\n"
     ]
    },
    {
     "name": "stdout",
     "output_type": "stream",
     "text": [
      "Checking if [(-1.185308173215641? : -0.4431584521303312? : 1), (-0.311546101105247? : -1.091433537889657? : 1), (8.04546538543200? : -7.291796898868901? : 1)] intersects [(-1 : -1 : 1), (-1 : 0 : 1), (-1 : 1 : 0), (-1 : 1 : 1), (0 : -1 : 1), (0 : 0 : 1), (0 : 1 : 0), (0 : 1 : 1), (1 : -1 : 1), (1 : 0 : 0), (1 : 0 : 1), (1 : 1 : 0), (1 : 1 : 1)]\n"
     ]
    },
    {
     "name": "stdout",
     "output_type": "stream",
     "text": [
      "Checking if [(-1.185308173215641? : -0.4431584521303312? : 1), (-0.311546101105247? : -1.091433537889657? : 1), (8.04546538543200? : -7.291796898868901? : 1)] intersects [(-72/23 : 1 : 1), (-41/23 : 0 : 1), (-31/23 : 1 : 0), (-1 : -1 : 1), (-1 : -18/31 : 1), (-1 : 0 : 1), (-1 : 1 : 0), (-1 : 1 : 1), (-41/54 : -41/54 : 1), (-10/23 : -1 : 1), (0 : -41/31 : 1), (0 : -1 : 1), (0 : 0 : 1), (0 : 1 : 0), (0 : 1 : 1), (1 : -64/31 : 1), (1 : -1 : 1), (1 : 0 : 0), (1 : 0 : 1), (1 : 1 : 0), (1 : 1 : 1), (41/8 : -41/8 : 1)]\n"
     ]
    }
   ],
   "source": [
    "# Bag of free curves (#TODO make a function to fill the bag, for now we use handpicked ones)\n",
    "C1 = x*z ; C2 = z^2-x*y\n",
    "FC = [(C1)*(C1+C2)*(C1-C2),(C2)*(C2+C1)*(C2-C1),x*y*z*(x^2-y^2)*(y^2-z^2)*(x^2-z^2)]\n",
    "\n",
    "limit = 2\n",
    "#triples = [(a, b, c) for a in range(-limit, limit + 1)\n",
    "#                    for b in range(-limit, limit + 1)\n",
    "#                    for c in range(-limit, limit + 1)\n",
    "#                    if gcd_of_three(abs(a), abs(b), abs(c)) == 1 and (a, b, c) != (0, 0, 0)]\n",
    "triples = [(a, b, c) for a in range(1, limit + 1)\n",
    "                    for b in range(1, limit + 1)\n",
    "                    for c in range(1, limit + 1)\n",
    "                    if gcd_of_three(a, b, c) == 1]\n",
    "\n",
    "triples = [(5,7,9),(23,31,41)]\n",
    "Lines = [triple[0]*x+triple[1]*y+triple[2]*z for triple in triples]\n",
    "\n",
    "# For each C in FC: find a minimal derivation d_C:\n",
    "ExperimentData = {}\n",
    "for poly in FC:\n",
    "    DerDict = MinimumDegreeSyzygy(poly)\n",
    "    j = DerDict[\"degree\"]\n",
    "    d = NewDer(DerDict[\"mindegree_generators\"][0]) # We dont need to use Der0 since MinimumDegreeSyzygy already asks d(f)=0\n",
    "    # For each line l in Lines, compute ld and find the points in V(ld) \\cap V(l)\n",
    "    Zdict = {}\n",
    "    ZcapJdict = {}\n",
    "    ZcapJCLdict = {}\n",
    "    for line in Lines:\n",
    "        ld = UnionDer(d,poly,line)\n",
    "        Z = ZeroesDer(ld,line)\n",
    "        Zdict[str(line)] = Z\n",
    "        ZcapJ = ComputeZcapJ(Z,poly)\n",
    "        ZcapJCL = ComputeZcapJ(Z,poly*line)\n",
    "        ZcapJdict[str(line)] = ZcapJ\n",
    "        ZcapJCLdict[str(line)] = ZcapJCL\n",
    "    ExperimentData[str(poly)]={\"j\":j,\"d\":d,\"Z\":Zdict,\"ZcapJ\":ZcapJdict,\"ZcapJCL\":ZcapJCLdict}\n",
    "\n",
    "        "
   ]
  },
  {
   "cell_type": "code",
   "execution_count": 6,
   "metadata": {
    "collapsed": false
   },
   "outputs": [
    {
     "data": {
      "text/plain": [
       "{'j': 2,\n",
       " 'd': x^2*d/dx + (-x*y - 2*z^2)*d/dy - x*z*d/dz,\n",
       " 'Z': {'x + y + z': [(-1 : 0 : 1), (1 : -2 : 1)],\n",
       "  'x + y + 2*z': [(-1 : -1 : 1), (1 : -3 : 1)],\n",
       "  'x + 2*y + z': [(-1.414213562373095? : 0.2071067811865476? : 1),\n",
       "   (1.414213562373095? : -1.207106781186548? : 1)],\n",
       "  'x + 2*y + 2*z': [(-1.414213562373095? : -0.2928932188134525? : 1),\n",
       "   (1.414213562373095? : -1.707106781186548? : 1)],\n",
       "  '2*x + y + z': [(-0.7071067811865475? : 0.4142135623730951? : 1),\n",
       "   (0.7071067811865475? : -2.414213562373095? : 1)],\n",
       "  '2*x + y + 2*z': [(-0.7071067811865475? : -0.5857864376269049? : 1),\n",
       "   (0.7071067811865475? : -3.414213562373095? : 1)],\n",
       "  '2*x + 2*y + z': [(-1 : 1/2 : 1), (1 : -3/2 : 1)]},\n",
       " 'ZcapJ': {'x + y + z': [],\n",
       "  'x + y + 2*z': [],\n",
       "  'x + 2*y + z': [],\n",
       "  'x + 2*y + 2*z': [],\n",
       "  '2*x + y + z': [],\n",
       "  '2*x + y + 2*z': [],\n",
       "  '2*x + 2*y + z': []},\n",
       " 'ZcapJCL': {'x + y + z': [(-1 : 0 : 1)],\n",
       "  'x + y + 2*z': [],\n",
       "  'x + 2*y + z': [],\n",
       "  'x + 2*y + 2*z': [],\n",
       "  '2*x + y + z': [],\n",
       "  '2*x + y + 2*z': [],\n",
       "  '2*x + 2*y + z': []}}"
      ]
     },
     "execution_count": 6,
     "metadata": {
     },
     "output_type": "execute_result"
    }
   ],
   "source": [
    "ExperimentData[str(FC[0])]"
   ]
  },
  {
   "cell_type": "code",
   "execution_count": 7,
   "metadata": {
    "collapsed": false
   },
   "outputs": [
    {
     "data": {
      "text/plain": [
       "{'j': 2,\n",
       " 'd': x^2*d/dx + (-x*y - 2*z^2)*d/dy - x*z*d/dz,\n",
       " 'Z': {'x + y + z': [(-1 : 0 : 1), (1 : -2 : 1)],\n",
       "  'x + y + 2*z': [(-1 : -1 : 1), (1 : -3 : 1)],\n",
       "  'x + 2*y + z': [(-1.414213562373095? : 0.2071067811865476? : 1),\n",
       "   (1.414213562373095? : -1.207106781186548? : 1)],\n",
       "  'x + 2*y + 2*z': [(-1.414213562373095? : -0.2928932188134525? : 1),\n",
       "   (1.414213562373095? : -1.707106781186548? : 1)],\n",
       "  '2*x + y + z': [(-0.7071067811865475? : 0.4142135623730951? : 1),\n",
       "   (0.7071067811865475? : -2.414213562373095? : 1)],\n",
       "  '2*x + y + 2*z': [(-0.7071067811865475? : -0.5857864376269049? : 1),\n",
       "   (0.7071067811865475? : -3.414213562373095? : 1)],\n",
       "  '2*x + 2*y + z': [(-1 : 1/2 : 1), (1 : -3/2 : 1)]},\n",
       " 'ZcapJ': {'x + y + z': [],\n",
       "  'x + y + 2*z': [],\n",
       "  'x + 2*y + z': [],\n",
       "  'x + 2*y + 2*z': [],\n",
       "  '2*x + y + z': [],\n",
       "  '2*x + y + 2*z': [],\n",
       "  '2*x + 2*y + z': []},\n",
       " 'ZcapJCL': {'x + y + z': [(-1 : 0 : 1)],\n",
       "  'x + y + 2*z': [(-1 : -1 : 1)],\n",
       "  'x + 2*y + z': [],\n",
       "  'x + 2*y + 2*z': [],\n",
       "  '2*x + y + z': [],\n",
       "  '2*x + y + 2*z': [],\n",
       "  '2*x + 2*y + z': []}}"
      ]
     },
     "execution_count": 7,
     "metadata": {
     },
     "output_type": "execute_result"
    }
   ],
   "source": [
    "ExperimentData[str(FC[1])]"
   ]
  },
  {
   "cell_type": "code",
   "execution_count": 5,
   "metadata": {
    "collapsed": false
   },
   "outputs": [
    {
     "data": {
      "text/plain": [
       "{'j': 3,\n",
       " 'd': (4*x^3 - 5*x*y^2 - 5*x*z^2)*d/dx + (-5*x^2*y + 4*y^3 - 5*y*z^2)*d/dy + (-5*x^2*z - 5*y^2*z + 4*z^3)*d/dz,\n",
       " 'Z': {'5*x + 7*y + 9*z': [(-1.189737426914880? : -0.4359018379179433? : 1),\n",
       "   (-0.2841639462992600? : -1.082740038357672? : 1),\n",
       "   (7.098901373214140? : -6.356358123724385? : 1)],\n",
       "  '23*x + 31*y + 41*z': [(-1.185308173215641? : -0.4431584521303312? : 1),\n",
       "   (-0.311546101105247? : -1.091433537889657? : 1),\n",
       "   (8.04546538543200? : -7.291796898868901? : 1)]},\n",
       " 'ZcapJ': {'5*x + 7*y + 9*z': [], '23*x + 31*y + 41*z': []},\n",
       " 'ZcapJCL': {'5*x + 7*y + 9*z': [], '23*x + 31*y + 41*z': []}}"
      ]
     },
     "execution_count": 5,
     "metadata": {
     },
     "output_type": "execute_result"
    }
   ],
   "source": [
    "ExperimentData[str(FC[2])]"
   ]
  },
  {
   "cell_type": "code",
   "execution_count": 0,
   "metadata": {
    "collapsed": false
   },
   "outputs": [
   ],
   "source": [
    "# f defines the curve, l is a line\n",
    "def ComputeSplitting(f,l):\n",
    "    Xf = Curve(f)\n",
    "    Xl = Curve(l)\n",
    "    #TODO how do we compute multiplicity without messing up???? Test below"
   ]
  },
  {
   "cell_type": "code",
   "execution_count": 33,
   "metadata": {
    "collapsed": false
   },
   "outputs": [
    {
     "name": "stdout",
     "output_type": "stream",
     "text": [
      "(-2.618033988749895? : 0.618033988749895? : 1) has multiplicity 1 in f and 2 in f*l\n",
      "(-1 : -1 : 1) has multiplicity 1 in f and 2 in f*l\n",
      "(-0.50000000000000000? - 0.866025403784439?*I : -1.5000000000000000? + 0.866025403784439?*I : 1) has multiplicity 1 in f and 2 in f*l\n",
      "(-0.50000000000000000? + 0.866025403784439?*I : -1.5000000000000000? - 0.866025403784439?*I : 1) has multiplicity 1 in f and 2 in f*l\n"
     ]
    },
    {
     "name": "stdout",
     "output_type": "stream",
     "text": [
      "(-0.3819660112501051? : -1.618033988749895? : 1) has multiplicity 1 in f and 2 in f*l\n"
     ]
    },
    {
     "name": "stdout",
     "output_type": "stream",
     "text": [
      "(-2.618033988749895? : 0.618033988749895? : 1) has tangents [0.1458980337503155?*x + y + (-0.2360679774997897?)*z] in f\n",
      "(-1 : -1 : 1) has tangents [x + y + 2*z] in f\n",
      "(-0.50000000000000000? - 0.866025403784439?*I : -1.5000000000000000? + 0.866025403784439?*I : 1) has tangents [(-0.500000000000000? - 0.866025403784439?*I)*x + y + (2.000000000000000? - 1.732050807568878?*I)*z] in f\n",
      "(-0.50000000000000000? + 0.866025403784439?*I : -1.5000000000000000? - 0.866025403784439?*I : 1) has tangents [(-0.500000000000000? + 0.866025403784439?*I)*x + y + (2.000000000000000? + 1.732050807568878?*I)*z] in f\n",
      "(-0.3819660112501051? : -1.618033988749895? : 1) has tangents [6.854101966249684?*x + y + 4.236067977499789?*z] in f\n"
     ]
    }
   ],
   "source": [
    "# test for ComputeSplitting\n",
    "C1 = x*z ; C2 = z^2-x*y ; f = (C2)*(C2+C1)*(C2-C1) ; l = x+y+2*z\n",
    "kbar = QQbar ; Rbar.<x,y,z> = PolynomialRing(kbar,3)\n",
    "Xf = Curve(Rbar(f)) ; Xl = Curve(Rbar(l))\n",
    "fcapl = Xf.intersection(Xl)\n",
    "fcupl = Curve(Rbar(f*l))\n",
    "for pt in fcapl.rational_points():\n",
    "    mptf = Xf.multiplicity(pt)\n",
    "    mptfcupl = fcupl.multiplicity(pt)\n",
    "    print(f\"{pt} has multiplicity {mptf} in f and {mptfcupl} in f*l\")\n",
    "    \n",
    "for pt in fcapl.rational_points():\n",
    "    tangentsatpt = Xf.tangents(pt)\n",
    "    print(f\"{pt} has tangents {tangentsatpt} in f\")"
   ]
  },
  {
   "cell_type": "code",
   "execution_count": 32,
   "metadata": {
    "collapsed": false
   },
   "outputs": [
    {
     "data": {
      "text/plain": [
       "[{y: -1, x: -1},\n",
       " {y: -1.618033988749895?, x: -0.3819660112501051?},\n",
       " {y: 0.618033988749895?, x: -2.618033988749895?},\n",
       " {y: -1.500000000000000? - 0.866025403784439?*I, x: -0.500000000000000? + 0.866025403784439?*I},\n",
       " {y: -1.500000000000000? + 0.866025403784439?*I, x: -0.500000000000000? - 0.866025403784439?*I}]"
      ]
     },
     "execution_count": 32,
     "metadata": {
     },
     "output_type": "execute_result"
    }
   ],
   "source": [
    "Raffine.<x,y> = PolynomialRing(k,2)\n",
    "C1 = x ; C2 = 1-x*y ; f = (C2)*(C2+C1)*(C2-C1) ; l = x+y+2\n",
    "If = Ideal(f) ; Il = Ideal(l)\n",
    "Ifcapl = Ideal(f,l)\n",
    "Ifcapl.variety(QQbar)"
   ]
  },
  {
   "cell_type": "code",
   "execution_count": 0,
   "metadata": {
    "collapsed": false
   },
   "outputs": [
   ],
   "source": [
   ]
  }
 ],
 "metadata": {
  "kernelspec": {
   "argv": [
    "sage-10.1",
    "--python",
    "-m",
    "sage.repl.ipython_kernel",
    "--matplotlib=inline",
    "-f",
    "{connection_file}"
   ],
   "display_name": "SageMath 10.1",
   "env": {
   },
   "language": "sagemath",
   "metadata": {
    "cocalc": {
     "description": "Open-source mathematical software system",
     "priority": 10,
     "url": "https://www.sagemath.org/"
    }
   },
   "name": "sage-10.1",
   "resource_dir": "/ext/jupyter/kernels/sage-10.1"
  }
 },
 "nbformat": 4,
 "nbformat_minor": 4
}